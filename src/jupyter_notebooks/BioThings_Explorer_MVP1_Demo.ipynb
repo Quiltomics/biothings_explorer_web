{
 "cells": [
  {
   "cell_type": "code",
   "execution_count": 4,
   "metadata": {
    "collapsed": true
   },
   "outputs": [],
   "source": [
    "import requests\n",
    "def query_single_edge(_input, _output, _value):\n",
    "    \"\"\"\n",
    "        Retrieve results using one API call from input to output.\n",
    "        :param _input: the input prefix, for a list of input prefix in BioThings Explorer, visit: http://biothings.io/explorer/api/v2/metadata/bioentities\n",
    "        :param _output: the output prefix, for a list of output prefix in BioThings Explorer, visit: http://biothings.io/explorer/api/v2/metadata/bioentities\n",
    "        :_value: The value of the input\n",
    "        :return:\n",
    "    \"\"\"\n",
    "    doc = requests.get('http://biothings.io/explorer/api/v2/directinput2output?input_prefix={{input}}&output_prefix={{output}}&input_value={{value}}&format=translator'.\n",
    "                      replace(\"{{input}}\", _input).replace(\"{{output}}\", _output).replace(\"{{value}}\", _value)).json()\n",
    "    return doc"
   ]
  },
  {
   "cell_type": "markdown",
   "metadata": {},
   "source": [
    "## What are the defining symptoms / phenotypes of [condition x]?"
   ]
  },
  {
   "cell_type": "markdown",
   "metadata": {},
   "source": [
    "Input Type: OMIM Disease ID/DOID/MONDO ID\n",
    "\n",
    "Input Value: 603903(OMIM DISEASE ID)\n",
    "\n",
    "Expected Output Type: Human Phenotype Ontology ID"
   ]
  },
  {
   "cell_type": "code",
   "execution_count": 7,
   "metadata": {
    "collapsed": true
   },
   "outputs": [],
   "source": [
    "# call BioThings Explorer to retrieve phenotype associated with OMIM:603903\n",
    "results = query_single_edge(_input='omim.disease', \n",
    "                            _output='hp', \n",
    "                            _value='603903')"
   ]
  },
  {
   "cell_type": "code",
   "execution_count": 10,
   "metadata": {
    "collapsed": false
   },
   "outputs": [
    {
     "data": {
      "text/plain": [
       "{'description': None,\n",
       " 'id': 'HP:0002204',\n",
       " 'name': 'Pulmonary embolism',\n",
       " 'type': 'phenotype'}"
      ]
     },
     "execution_count": 10,
     "metadata": {},
     "output_type": "execute_result"
    }
   ],
   "source": [
    "# display example output for node\n",
    "results['result_list']['node_list'][0]"
   ]
  },
  {
   "cell_type": "code",
   "execution_count": 11,
   "metadata": {
    "collapsed": false
   },
   "outputs": [
    {
     "data": {
      "text/plain": [
       "{'evidence_type': None,\n",
       " 'provided_by': 'hpoa.ttl',\n",
       " 'publications': None,\n",
       " 'qualifier': {'category': None, 'probability': None, 'pvalue': None},\n",
       " 'relation': 'has phenotype',\n",
       " 'source_id': 'OMIM.DISEASE:603903',\n",
       " 'target_id': 'HP:0002204'}"
      ]
     },
     "execution_count": 11,
     "metadata": {},
     "output_type": "execute_result"
    }
   ],
   "source": [
    "# display example output for edge\n",
    "results['result_list']['edge_list'][0]"
   ]
  },
  {
   "cell_type": "code",
   "execution_count": 12,
   "metadata": {
    "collapsed": true
   },
   "outputs": [],
   "source": [
    "# fetch all Human Phenotype Ontology IDs for the next step\n",
    "phenotypes = [_doc['id'] for _doc in results['result_list']['node_list']]"
   ]
  },
  {
   "cell_type": "code",
   "execution_count": 13,
   "metadata": {
    "collapsed": false
   },
   "outputs": [
    {
     "data": {
      "text/plain": [
       "['HP:0002204',\n",
       " 'HP:0000823',\n",
       " 'HP:0000980',\n",
       " 'HP:0001941',\n",
       " 'HP:0004825',\n",
       " 'HP:0000097',\n",
       " 'HP:0007917',\n",
       " 'HP:0003155',\n",
       " 'HP:0001712',\n",
       " 'HP:0002098']"
      ]
     },
     "execution_count": 13,
     "metadata": {},
     "output_type": "execute_result"
    }
   ],
   "source": [
    "# display the first 10 phenotypes\n",
    "phenotypes[:10]"
   ]
  },
  {
   "cell_type": "markdown",
   "metadata": {},
   "source": [
    "## What conditions present [symptoms]?"
   ]
  },
  {
   "cell_type": "markdown",
   "metadata": {},
   "source": [
    "Input Type: Human Phenotype Ontology ID\n",
    "\n",
    "Input Value: ['HP:0002204', 'HP:0000823', 'HP:0000980', 'HP:0001941', 'HP:0004825', 'HP:0000097', 'HP:0007917', 'HP:0003155', 'HP:0001712', 'HP:0002098']\n",
    "\n",
    "Expected Output: OMIM Disease ID"
   ]
  },
  {
   "cell_type": "code",
   "execution_count": 15,
   "metadata": {
    "collapsed": false
   },
   "outputs": [],
   "source": [
    "similar_conditions = []\n",
    "# loop through the first 100 human phenotype ontology IDs got from CELL 12\n",
    "for _phenotype in phenotypes[:100]:\n",
    "    results = query_single_edge(_input='hp', \n",
    "                                _output='omim.disease', \n",
    "                                _value=_phenotype.split(':')[-1])\n",
    "    if results and 'result_list' in results:\n",
    "        similar_conditions += results['result_list']['node_list']"
   ]
  },
  {
   "cell_type": "code",
   "execution_count": 17,
   "metadata": {
    "collapsed": false
   },
   "outputs": [],
   "source": [
    "# extract the unique conditions from results\n",
    "similar_conditions = set([_doc['id'] for _doc in similar_conditions])"
   ]
  },
  {
   "cell_type": "code",
   "execution_count": 18,
   "metadata": {
    "collapsed": false
   },
   "outputs": [
    {
     "data": {
      "text/plain": [
       "['OMIM.DISEASE:112200',\n",
       " 'OMIM.DISEASE:615988',\n",
       " 'OMIM.DISEASE:615515',\n",
       " 'OMIM.DISEASE:149400',\n",
       " 'OMIM.DISEASE:266200',\n",
       " 'OMIM.DISEASE:239199',\n",
       " 'OMIM.DISEASE:613576',\n",
       " 'OMIM.DISEASE:261000',\n",
       " 'OMIM.DISEASE:615415',\n",
       " 'OMIM.DISEASE:604498']"
      ]
     },
     "execution_count": 18,
     "metadata": {},
     "output_type": "execute_result"
    }
   ],
   "source": [
    "# display the first 10 conditions\n",
    "list(similar_conditions)[:10]"
   ]
  },
  {
   "cell_type": "markdown",
   "metadata": {},
   "source": [
    "## Module 1: What genes are implicated in [condition]?"
   ]
  },
  {
   "cell_type": "markdown",
   "metadata": {},
   "source": [
    "Input Type: OMIM disease ID\n",
    "\n",
    "Input Value: ['OMIM.DISEASE:612336', 'OMIM.DISEASE:614514', 'OMIM.DISEASE:176860', 'OMIM.DISEASE:612304', 'OMIM.DISEASE:613485', 'OMIM.DISEASE:134400', 'OMIM.DISEASE:613118', 'OMIM.DISEASE:188050', 'OMIM.DISEASE:615961', 'OMIM.DISEASE:616834']\n",
    "\n",
    "Expected Output Type: ncbigene ID"
   ]
  },
  {
   "cell_type": "code",
   "execution_count": 19,
   "metadata": {
    "collapsed": false
   },
   "outputs": [],
   "source": [
    "implicated_genes = []\n",
    "# loop through the first 100 similar conditions got from CELL 15\n",
    "for _condition in list(similar_conditions)[:100]:\n",
    "    results = query_single_edge(_input='omim.disease', \n",
    "                                _output='ncbigene', \n",
    "                                _value=_condition.split(':')[-1])\n",
    "    if results and 'result_list' in results:\n",
    "        implicated_genes += results['result_list']['node_list']"
   ]
  },
  {
   "cell_type": "code",
   "execution_count": 21,
   "metadata": {
    "collapsed": false
   },
   "outputs": [],
   "source": [
    "# extract the unique genes from results\n",
    "implicated_genes = set([_doc['id'] for _doc in implicated_genes])"
   ]
  },
  {
   "cell_type": "code",
   "execution_count": 22,
   "metadata": {
    "collapsed": false
   },
   "outputs": [
    {
     "data": {
      "text/plain": [
       "['NCBIGENE:326',\n",
       " 'NCBIGENE:2176',\n",
       " 'NCBIGENE:2833',\n",
       " 'NCBIGENE:1471',\n",
       " 'NCBIGENE:5313',\n",
       " 'NCBIGENE:5972',\n",
       " 'NCBIGENE:7439',\n",
       " 'NCBIGENE:2066',\n",
       " 'NCBIGENE:2263',\n",
       " 'NCBIGENE:5836']"
      ]
     },
     "execution_count": 22,
     "metadata": {},
     "output_type": "execute_result"
    }
   ],
   "source": [
    "# display the first 10 conditions\n",
    "list(implicated_genes)[:10]"
   ]
  },
  {
   "cell_type": "markdown",
   "metadata": {},
   "source": [
    "## Module 1: What pathways/processes are [genes] involved in?"
   ]
  },
  {
   "cell_type": "markdown",
   "metadata": {},
   "source": [
    "Input Type: ncbigene ID\n",
    "\n",
    "Input Value: ['NCBIGENE:3026',\n",
    " 'NCBIGENE:462',\n",
    " 'NCBIGENE:4615',\n",
    " 'NCBIGENE:4247',\n",
    " 'NCBIGENE:5373',\n",
    " 'NCBIGENE:7056',\n",
    " 'NCBIGENE:3273',\n",
    " 'NCBIGENE:2147',\n",
    " 'NCBIGENE:29929',\n",
    " 'NCBIGENE:2243']\n",
    "\n",
    "Expected Output Type: Reactome Pathway ID"
   ]
  },
  {
   "cell_type": "code",
   "execution_count": 25,
   "metadata": {
    "collapsed": false
   },
   "outputs": [],
   "source": [
    "involved_pathways = []\n",
    "# loop through the first 50 implicated genes got from CELL 15\n",
    "for _gene in list(implicated_genes)[:50]:\n",
    "    results = query_single_edge(_input='ncbigene', \n",
    "                                _output='reactome.pathway', \n",
    "                                _value=_gene.split(':')[-1])\n",
    "    if results and 'result_list' in results:\n",
    "        involved_pathways += [_doc['id'] for _doc in results['result_list']['node_list'] if _doc['id'].startswith('REACT')]"
   ]
  },
  {
   "cell_type": "code",
   "execution_count": 26,
   "metadata": {
    "collapsed": false
   },
   "outputs": [
    {
     "data": {
      "text/plain": [
       "874"
      ]
     },
     "execution_count": 26,
     "metadata": {},
     "output_type": "execute_result"
    }
   ],
   "source": [
    "len(set(involved_pathways))"
   ]
  },
  {
   "cell_type": "code",
   "execution_count": 27,
   "metadata": {
    "collapsed": false
   },
   "outputs": [
    {
     "data": {
      "text/plain": [
       "['REACTOME.PATHWAY:REACT:R-HSA-190377',\n",
       " 'REACTOME.PATHWAY:R-HSA-5668914',\n",
       " 'REACTOME.PATHWAY:KEGG-path:maphsa04062',\n",
       " 'REACTOME.PATHWAY:R-HSA-674695',\n",
       " 'REACTOME.PATHWAY:R-HSA-180910',\n",
       " 'REACTOME.PATHWAY:KEGG-path:maphsa05414',\n",
       " 'REACTOME.PATHWAY:R-HSA-1852241',\n",
       " 'REACTOME.PATHWAY:REACT:R-HSA-983705',\n",
       " 'REACTOME.PATHWAY:REACT:R-HSA-4570464',\n",
       " 'REACTOME.PATHWAY:R-HSA-446728']"
      ]
     },
     "execution_count": 27,
     "metadata": {},
     "output_type": "execute_result"
    }
   ],
   "source": [
    "# display the first 10 pathways\n",
    "list(set(involved_pathways))[:10]"
   ]
  },
  {
   "cell_type": "markdown",
   "metadata": {},
   "source": [
    "## Module 1: What genes are involved in [pathway/process]?"
   ]
  },
  {
   "cell_type": "markdown",
   "metadata": {},
   "source": [
    "Input Type: Reactome Pathway ID\n",
    "\n",
    "Input Value: ['REACTOME.PATHWAY:R-HSA-372790',\n",
    " 'REACTOME.PATHWAY:R-HSA-392499',\n",
    " 'REACTOME.PATHWAY:R-HSA-456926',\n",
    " 'REACTOME.PATHWAY:R-HSA-140877',\n",
    " 'REACTOME.PATHWAY:R-HSA-1280218',\n",
    " 'REACTOME.PATHWAY:R-HSA-193704',\n",
    " 'REACTOME.PATHWAY:R-HSA-76005',\n",
    " 'REACTOME.PATHWAY:R-HSA-168188',\n",
    " 'REACTOME.PATHWAY:R-HSA-114608',\n",
    " 'REACTOME.PATHWAY:R-HSA-159854']\n",
    "\n",
    "Expected Output Type: ncbigene ID"
   ]
  },
  {
   "cell_type": "code",
   "execution_count": 28,
   "metadata": {
    "collapsed": false
   },
   "outputs": [],
   "source": [
    "involved_genes = []\n",
    "for _pathway in list(set(involved_pathways))[:50]:\n",
    "    results = query_single_edge(_input='reactome.pathway', \n",
    "                                _output='ncbigene', \n",
    "                                _value=_pathway.split(':')[-1])\n",
    "    if results and 'result_list' in results:\n",
    "        involved_genes += [_doc['id'] for _doc in results['result_list']['node_list']]"
   ]
  },
  {
   "cell_type": "code",
   "execution_count": 29,
   "metadata": {
    "collapsed": false
   },
   "outputs": [
    {
     "data": {
      "text/plain": [
       "1768"
      ]
     },
     "execution_count": 29,
     "metadata": {},
     "output_type": "execute_result"
    }
   ],
   "source": [
    "len(set(involved_genes))"
   ]
  },
  {
   "cell_type": "code",
   "execution_count": 30,
   "metadata": {
    "collapsed": false
   },
   "outputs": [
    {
     "data": {
      "text/plain": [
       "['NCBIGENE:8740',\n",
       " 'NCBIGENE:10699',\n",
       " 'NCBIGENE:23169',\n",
       " 'NCBIGENE:3141',\n",
       " 'NCBIGENE:1759',\n",
       " 'NCBIGENE:57161',\n",
       " 'NCBIGENE:8148',\n",
       " 'NCBIGENE:57171',\n",
       " 'NCBIGENE:5699',\n",
       " 'NCBIGENE:4759']"
      ]
     },
     "execution_count": 30,
     "metadata": {},
     "output_type": "execute_result"
    }
   ],
   "source": [
    "# display the last 10 genes\n",
    "list(set(involved_genes))[-10:]"
   ]
  },
  {
   "cell_type": "markdown",
   "metadata": {},
   "source": [
    "## Module 1: What drugs/compounds target gene products of [gene]?"
   ]
  },
  {
   "cell_type": "markdown",
   "metadata": {},
   "source": [
    "Input Type: ncbigene ID\n",
    "\n",
    "Input Value: ['NCBIGENE:10161',\n",
    " 'NCBIGENE:55701',\n",
    " 'NCBIGENE:89790',\n",
    " 'NCBIGENE:23370',\n",
    " 'NCBIGENE:81168',\n",
    " 'NCBIGENE:120775',\n",
    " 'NCBIGENE:5190',\n",
    " 'NCBIGENE:27237',\n",
    " 'NCBIGENE:974',\n",
    " 'NCBIGENE:3805']\n",
    "\n",
    "Expected Output Type: ChEMBL Compound ID"
   ]
  },
  {
   "cell_type": "code",
   "execution_count": 31,
   "metadata": {
    "collapsed": false
   },
   "outputs": [],
   "source": [
    "involved_gene_symbols = []\n",
    "for _gene in list(set(involved_genes))[-100:]:\n",
    "    results = query_single_edge(_input='ncbigene', \n",
    "                                _output='hgnc.symbol', \n",
    "                                _value=_gene.split(':')[-1])\n",
    "    if results and 'result_list' in results:\n",
    "        involved_gene_symbols += [_doc['id'] for _doc in results['result_list']['node_list']]"
   ]
  },
  {
   "cell_type": "code",
   "execution_count": 32,
   "metadata": {
    "collapsed": false
   },
   "outputs": [
    {
     "data": {
      "text/plain": [
       "['HGNC.SYMBOL:HIBADH',\n",
       " 'HGNC.SYMBOL:CDC40',\n",
       " 'HGNC.SYMBOL:TTC8',\n",
       " 'HGNC.SYMBOL:RFT1',\n",
       " 'HGNC.SYMBOL:KCNK4',\n",
       " 'HGNC.SYMBOL:ARF1',\n",
       " 'HGNC.SYMBOL:NXF2',\n",
       " 'HGNC.SYMBOL:TCTEX1D1',\n",
       " 'HGNC.SYMBOL:GCA',\n",
       " 'HGNC.SYMBOL:MALT1']"
      ]
     },
     "execution_count": 32,
     "metadata": {},
     "output_type": "execute_result"
    }
   ],
   "source": [
    "involved_gene_symbols[:10]"
   ]
  },
  {
   "cell_type": "code",
   "execution_count": 33,
   "metadata": {
    "collapsed": false
   },
   "outputs": [],
   "source": [
    "drugs = []\n",
    "for _gene in set(involved_gene_symbols):\n",
    "    results = query_single_edge(_input='hgnc.symbol', \n",
    "                                _output='chembl.compound', \n",
    "                                _value=_gene.split(':')[-1])\n",
    "    if results and 'result_list' in results:\n",
    "        drugs += [_doc['id'] for _doc in results['result_list']['node_list']]"
   ]
  },
  {
   "cell_type": "code",
   "execution_count": 34,
   "metadata": {
    "collapsed": false
   },
   "outputs": [
    {
     "data": {
      "text/plain": [
       "['CHEMBL.COMPOUND:CHEMBL14762',\n",
       " 'CHEMBL.COMPOUND:CHEMBL488436',\n",
       " 'CHEMBL.COMPOUND:CHEMBL1230607',\n",
       " 'CHEMBL.COMPOUND:CHEMBL1944698',\n",
       " 'CHEMBL.COMPOUND:CHEMBL3544942',\n",
       " 'CHEMBL.COMPOUND:CHEMBL445813',\n",
       " 'CHEMBL.COMPOUND:CHEMBL1802728',\n",
       " 'CHEMBL.COMPOUND:CHEMBL448',\n",
       " 'CHEMBL.COMPOUND:CHEMBL564829',\n",
       " 'CHEMBL.COMPOUND:CHEMBL3545083']"
      ]
     },
     "execution_count": 34,
     "metadata": {},
     "output_type": "execute_result"
    }
   ],
   "source": [
    "drugs[:10]"
   ]
  },
  {
   "cell_type": "markdown",
   "metadata": {},
   "source": [
    "## Annotations Path"
   ]
  },
  {
   "cell_type": "markdown",
   "metadata": {},
   "source": [
    "### What are the common side effects of [drug]?\n",
    "Input Type: chembl compound ID\n",
    "\n",
    "Exprected Output Type: UMLS Disease ID"
   ]
  },
  {
   "cell_type": "code",
   "execution_count": 43,
   "metadata": {
    "collapsed": true
   },
   "outputs": [],
   "source": [
    "def fetch_drug_common_side_effects(chembl_id, threshold=20):\n",
    "    side_effects = query_single_edge(_input='chembl.compound', \n",
    "                                     _output='meddra',\n",
    "                                     _value=chembl_id.split(':')[-1])\n",
    "    if side_effects and 'result_list' in side_effects:\n",
    "        return [_doc['target_id'] for _doc in side_effects['result_list']['edge_list'] if float(_doc['qualifier']['probability']) > threshold]\n",
    "    else:\n",
    "        return []"
   ]
  },
  {
   "cell_type": "code",
   "execution_count": 44,
   "metadata": {
    "collapsed": false
   },
   "outputs": [
    {
     "name": "stdout",
     "output_type": "stream",
     "text": [
      "Automatic pdb calling has been turned OFF\n"
     ]
    },
    {
     "data": {
      "text/plain": [
       "['MEDDRA:10001551',\n",
       " 'MEDDRA:10002026',\n",
       " 'MEDDRA:10010264',\n",
       " 'MEDDRA:10011224',\n",
       " 'MEDDRA:10011906',\n",
       " 'MEDDRA:10022611',\n",
       " 'MEDDRA:10028813',\n",
       " 'MEDDRA:10035664',\n",
       " 'MEDDRA:10038695',\n",
       " 'MEDDRA:10060760',\n",
       " 'MEDDRA:10061818',\n",
       " 'MEDDRA:10063560',\n",
       " 'MEDDRA:10013950',\n",
       " 'MEDDRA:10037660']"
      ]
     },
     "execution_count": 44,
     "metadata": {},
     "output_type": "execute_result"
    }
   ],
   "source": [
    "%pdb\n",
    "fetch_drug_common_side_effects('CHEMBL.COMPOUND:CHEMBL744')"
   ]
  },
  {
   "cell_type": "code",
   "execution_count": 124,
   "metadata": {
    "collapsed": true
   },
   "outputs": [],
   "source": [
    "def fetch_drug_indication(chembl_id):\n",
    "    \"\"\"\n",
    "    Retrieve drug indications of a drug using BioThings Explorer.\n",
    "    :param chembl_id: CHEMBL compound ID in curie format, e.g. CHEMBL.COMPOUND:CHEMBL1480\n",
    "    :return:\n",
    "    \"\"\"\n",
    "    indications = query_single_edge(_input='chembl.compound', \n",
    "                                    _output='umls.disease',\n",
    "                                    _value=chembl_id.split(':')[-1])\n",
    "    if indications and 'data' in indications:\n",
    "        return [_doc['output']['object'] for _doc in indications['data']]\n",
    "    else:\n",
    "        return []\n",
    "\n",
    "def fetch_drug_approval_status(chembl_id):\n",
    "    \"\"\"\n",
    "    Retrieve drug approval status of a drug using BioThings Explorer.\n",
    "    :param chembl_id: CHEMBL compound ID in curie format, e.g. CHEMBL.COMPOUND:CHEMBL1480\n",
    "    :return:\n",
    "    \"\"\"\n",
    "    drug_phase = query_single_edge(_input='chembl.compound', \n",
    "                                   _output='drugPhase',\n",
    "                                   _value=chembl_id.split(':')[-1])\n",
    "    if drug_phase and 'data' in drug_phase:\n",
    "        return [_doc['output']['object'] for _doc in drug_phase['data']]\n",
    "    else:\n",
    "        return []"
   ]
  },
  {
   "cell_type": "code",
   "execution_count": 125,
   "metadata": {
    "collapsed": false
   },
   "outputs": [
    {
     "data": {
      "text/plain": [
       "[{'id': 'UMLS.DISEASE:C0002736',\n",
       "  'label': 'Amyotrophic lateral sclerosis',\n",
       "  'secondary-id': 'SNOMED:86044005'}]"
      ]
     },
     "execution_count": 125,
     "metadata": {},
     "output_type": "execute_result"
    }
   ],
   "source": [
    "fetch_drug_side_effects('CHEMBL.COMPOUND:CHEMBL744')"
   ]
  },
  {
   "cell_type": "code",
   "execution_count": 128,
   "metadata": {
    "collapsed": true
   },
   "outputs": [],
   "source": [
    "def fetch_drug_approval_status(chembl_id):\n",
    "    drug_phase = direct_input_2_output(_input='chembl.compound', \n",
    "                                        _output='drugPhase',\n",
    "                                        _value=chembl_id.split(':')[-1])\n",
    "    if drug_phase and 'data' in drug_phase:\n",
    "        return [_doc['output']['object'] for _doc in drug_phase['data']]\n",
    "    else:\n",
    "        return []"
   ]
  },
  {
   "cell_type": "code",
   "execution_count": 133,
   "metadata": {
    "collapsed": false
   },
   "outputs": [
    {
     "data": {
      "text/plain": [
       "[{'id': 'DRUGPHASE:4'}]"
      ]
     },
     "execution_count": 133,
     "metadata": {},
     "output_type": "execute_result"
    }
   ],
   "source": [
    "fetch_drug_approval_status('CHEMBL.COMPOUND:CHEMBL744')"
   ]
  },
  {
   "cell_type": "code",
   "execution_count": 131,
   "metadata": {
    "collapsed": true
   },
   "outputs": [],
   "source": [
    "def fetch_drug_common_side_effects(chembl_id, threshold=20):\n",
    "    side_effects = direct_input_2_output(_input='chembl.compound', \n",
    "                                        _output='meddra',\n",
    "                                        _value=chembl_id.split(':')[-1])\n",
    "    if side_effects and 'data' in side_effects:\n",
    "        return [_doc['output']['object'] for _doc in side_effects['data'] if float(_doc['output']['edge']['probability']) > threshold]\n",
    "    else:\n",
    "        return []"
   ]
  },
  {
   "cell_type": "code",
   "execution_count": 132,
   "metadata": {
    "collapsed": false
   },
   "outputs": [
    {
     "data": {
      "text/plain": [
       "[{'id': 'MEDDRA:10002026', 'label': 'Amyotrophic lateral sclerosis'},\n",
       " {'id': 'MEDDRA:10011906', 'label': 'Death'},\n",
       " {'id': 'MEDDRA:10061818', 'label': 'Disease progression'},\n",
       " {'id': 'MEDDRA:10037660', 'label': 'Pyrexia'}]"
      ]
     },
     "execution_count": 132,
     "metadata": {},
     "output_type": "execute_result"
    }
   ],
   "source": [
    "fetch_drug_common_side_effects('CHEMBL.COMPOUND:CHEMBL744', threshold=50)"
   ]
  },
  {
   "cell_type": "code",
   "execution_count": 134,
   "metadata": {
    "collapsed": true
   },
   "outputs": [],
   "source": [
    "def fetch_drug_EPC(chembl_id):\n",
    "    drug_EPC = direct_input_2_output(_input='chembl.compound', \n",
    "                                        _output='ndfrt',\n",
    "                                        _value=chembl_id.split(':')[-1])\n",
    "    if drug_EPC and 'data' in drug_EPC:\n",
    "        return [_doc['output']['object'] for _doc in drug_EPC['data']]\n",
    "    else:\n",
    "        return []"
   ]
  },
  {
   "cell_type": "code",
   "execution_count": 135,
   "metadata": {
    "collapsed": false
   },
   "outputs": [
    {
     "data": {
      "text/plain": [
       "[{'id': 'NDFRT:N0000175740', 'label': 'Benzothiazole'}]"
      ]
     },
     "execution_count": 135,
     "metadata": {},
     "output_type": "execute_result"
    }
   ],
   "source": [
    "fetch_drug_EPC('CHEMBL.COMPOUND:CHEMBL744')"
   ]
  },
  {
   "cell_type": "code",
   "execution_count": 136,
   "metadata": {
    "collapsed": true
   },
   "outputs": [],
   "source": [
    "chembl_compound_set_RTX = {'CHEMBL.COMPOUND:CHEMBL107',\n",
    " 'CHEMBL.COMPOUND:CHEMBL1200936',\n",
    " 'CHEMBL.COMPOUND:CHEMBL1201748',\n",
    " 'CHEMBL.COMPOUND:CHEMBL1201752',\n",
    " 'CHEMBL.COMPOUND:CHEMBL1201754',\n",
    " 'CHEMBL.COMPOUND:CHEMBL15770',\n",
    " 'CHEMBL.COMPOUND:CHEMBL159',\n",
    " 'CHEMBL.COMPOUND:CHEMBL1683590',\n",
    " 'CHEMBL.COMPOUND:CHEMBL170052',\n",
    " 'CHEMBL.COMPOUND:CHEMBL1742994',\n",
    " 'CHEMBL.COMPOUND:CHEMBL1743082',\n",
    " 'CHEMBL.COMPOUND:CHEMBL1788401',\n",
    " 'CHEMBL.COMPOUND:CHEMBL2028663',\n",
    " 'CHEMBL.COMPOUND:CHEMBL2104461',\n",
    " 'CHEMBL.COMPOUND:CHEMBL2110725',\n",
    " 'CHEMBL.COMPOUND:CHEMBL3545110',\n",
    " 'CHEMBL.COMPOUND:CHEMBL3770899',\n",
    " 'CHEMBL.COMPOUND:CHEMBL409153',\n",
    " 'CHEMBL.COMPOUND:CHEMBL428647',\n",
    " 'CHEMBL.COMPOUND:CHEMBL438',\n",
    " 'CHEMBL.COMPOUND:CHEMBL467',\n",
    " 'CHEMBL.COMPOUND:CHEMBL523',\n",
    " 'CHEMBL.COMPOUND:CHEMBL553025',\n",
    " 'CHEMBL.COMPOUND:CHEMBL90555',\n",
    " 'CHEMBL.COMPOUND:CHEMBL92'}"
   ]
  },
  {
   "cell_type": "code",
   "execution_count": 140,
   "metadata": {
    "collapsed": false
   },
   "outputs": [
    {
     "name": "stdout",
     "output_type": "stream",
     "text": [
      "CHEMBL.COMPOUND:CHEMBL467\n",
      "CHEMBL.COMPOUND:CHEMBL159\n",
      "CHEMBL.COMPOUND:CHEMBL438\n",
      "CHEMBL.COMPOUND:CHEMBL1201754\n",
      "CHEMBL.COMPOUND:CHEMBL2110725\n",
      "CHEMBL.COMPOUND:CHEMBL3545110\n",
      "CHEMBL.COMPOUND:CHEMBL2028663\n",
      "CHEMBL.COMPOUND:CHEMBL1742994\n",
      "CHEMBL.COMPOUND:CHEMBL1200936\n",
      "CHEMBL.COMPOUND:CHEMBL553025\n",
      "CHEMBL.COMPOUND:CHEMBL170052\n",
      "CHEMBL.COMPOUND:CHEMBL107\n",
      "CHEMBL.COMPOUND:CHEMBL90555\n",
      "CHEMBL.COMPOUND:CHEMBL409153\n",
      "CHEMBL.COMPOUND:CHEMBL1201748\n",
      "CHEMBL.COMPOUND:CHEMBL92\n",
      "CHEMBL.COMPOUND:CHEMBL523\n",
      "CHEMBL.COMPOUND:CHEMBL428647\n",
      "CHEMBL.COMPOUND:CHEMBL1788401\n",
      "CHEMBL.COMPOUND:CHEMBL15770\n",
      "CHEMBL.COMPOUND:CHEMBL2104461\n",
      "CHEMBL.COMPOUND:CHEMBL1201752\n",
      "CHEMBL.COMPOUND:CHEMBL1683590\n",
      "CHEMBL.COMPOUND:CHEMBL1743082\n",
      "CHEMBL.COMPOUND:CHEMBL3770899\n"
     ]
    }
   ],
   "source": [
    "RTX_drugs_annotation = {}\n",
    "for _compound in chembl_compound_set_RTX:\n",
    "    print(_compound)\n",
    "    RTX_drugs_annotation[_compound] = {'common_side_effects': fetch_drug_common_side_effects(_compound, threshold=50),\n",
    "                                       'approval_status': fetch_drug_approval_status(_compound),\n",
    "                                       'approved_indications': fetch_drug_indication(_compound),\n",
    "                                       'established_pharm_class': fetch_drug_EPC(_compound)\n",
    "                                       }"
   ]
  }
 ],
 "metadata": {
  "kernelspec": {
   "display_name": "Python 3",
   "language": "python",
   "name": "python3"
  },
  "language_info": {
   "codemirror_mode": {
    "name": "ipython",
    "version": 3
   },
   "file_extension": ".py",
   "mimetype": "text/x-python",
   "name": "python",
   "nbconvert_exporter": "python",
   "pygments_lexer": "ipython3",
   "version": "3.5.0"
  }
 },
 "nbformat": 4,
 "nbformat_minor": 2
}
