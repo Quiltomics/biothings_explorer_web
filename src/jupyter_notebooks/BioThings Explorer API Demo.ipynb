{
 "cells": [
  {
   "cell_type": "markdown",
   "metadata": {},
   "source": [
    "# Example Biological Question"
   ]
  },
  {
   "cell_type": "markdown",
   "metadata": {},
   "source": [
    "#### Get all chemicals/drugs which interact with genes involved in Wikipathways WP585"
   ]
  },
  {
   "cell_type": "code",
   "execution_count": 15,
   "metadata": {
    "collapsed": true
   },
   "outputs": [],
   "source": [
    "import requests\n",
    "import pprint\n",
    "pp = pprint.PrettyPrinter(indent=4)"
   ]
  },
  {
   "cell_type": "markdown",
   "metadata": {},
   "source": [
    "## Step 1: Find APIs which can connect from Pathway to Gene"
   ]
  },
  {
   "cell_type": "code",
   "execution_count": 22,
   "metadata": {
    "collapsed": false
   },
   "outputs": [
    {
     "name": "stdout",
     "output_type": "stream",
     "text": [
      "{   'associations': [   {   'endpoint': 'http://mygene.info/v3/querypathway',\n",
      "                            'object': {   'prefix': 'ncbigene',\n",
      "                                          'semantic_type': 'gene'},\n",
      "                            'predicate': 'PathwayToGeneAssociation',\n",
      "                            'subject': {   'prefix': 'biocarta.pathway',\n",
      "                                           'semantic_type': 'pathway'}},\n",
      "                        {   'endpoint': 'http://mygene.info/v3/querypathway',\n",
      "                            'object': {   'prefix': 'ncbigene',\n",
      "                                          'semantic_type': 'gene'},\n",
      "                            'predicate': 'PathwayToGeneAssociation',\n",
      "                            'subject': {   'prefix': 'kegg.pathway',\n",
      "                                           'semantic_type': 'pathway'}},\n",
      "                        {   'endpoint': 'http://mygene.info/v3/querypathway',\n",
      "                            'object': {   'prefix': 'ncbigene',\n",
      "                                          'semantic_type': 'gene'},\n",
      "                            'predicate': 'PathwayToGeneAssociation',\n",
      "                            'subject': {   'prefix': 'wikipathways',\n",
      "                                           'semantic_type': 'pathway'}},\n",
      "                        {   'endpoint': 'http://mygene.info/v3/querypathway',\n",
      "                            'object': {   'prefix': 'ncbigene',\n",
      "                                          'semantic_type': 'gene'},\n",
      "                            'predicate': 'PathwayToGeneAssociation',\n",
      "                            'subject': {   'prefix': 'reactome.pathway',\n",
      "                                           'semantic_type': 'pathway'}},\n",
      "                        {   'endpoint': 'https://reactome.org/ContentService/data/participants/{ReactomePathwaysId}',\n",
      "                            'object': {   'prefix': 'uniprot',\n",
      "                                          'semantic_type': 'gene'},\n",
      "                            'predicate': 'PathwayToProteinAssociation',\n",
      "                            'subject': {   'prefix': 'reactome.pathway',\n",
      "                                           'semantic_type': 'pathway'}}]}\n"
     ]
    }
   ],
   "source": [
    "# make API call to BioThings Explorer\n",
    "doc = requests.get('http://biothings.io/explorer/api/v2/apigraph', params={'subject.semantic_type': 'pathway', \n",
    "                                                                               'object.semantic_type': 'gene'})\n",
    "# get JSON output\n",
    "data = doc.json()\n",
    "# print results\n",
    "pp.pprint(data)"
   ]
  },
  {
   "cell_type": "markdown",
   "metadata": {},
   "source": [
    "## Step 2: Retrieve Genes involved in Wikipathways ID WP585 "
   ]
  },
  {
   "cell_type": "code",
   "execution_count": 19,
   "metadata": {
    "collapsed": false
   },
   "outputs": [
    {
     "name": "stdout",
     "output_type": "stream",
     "text": [
      "{   'context': {   'object:id': 'http://identifiers.org/ncbigene/',\n",
      "                   'object:label': 'http://biothings.io/explorer/vocab/terms/gene-approved-name/',\n",
      "                   'object:secondary-id': 'http://identifiers.org/hgnc.symbol/',\n",
      "                   'object:taxonomy': 'http://identifiers.org/taxonomy/'},\n",
      "    'endpoint': 'http://mygene.info/v3/querypathway',\n",
      "    'input': 'WIKIPATHWAYS:WP585',\n",
      "    'output': {   'object': {   'id': 'NCBIGENE:6775',\n",
      "                                'label': 'signal transducer and activator of '\n",
      "                                         'transcription 4',\n",
      "                                'secondary-id': 'HGNC.SYMBOL:STAT4',\n",
      "                                'taxonomy': '9606'}},\n",
      "    'predicate': 'PathwayToGeneAssociation',\n",
      "    'target': 'NCBIGENE:6775'}\n"
     ]
    }
   ],
   "source": [
    "# make API call to BioThings Explorer\n",
    "\n",
    "doc = requests.get('http://biothings.io/explorer/api/v2/findsingleedge', params={'input_prefix': \"wikipathways\", \n",
    "                                                                                     'output_prefix': 'ncbigene', \n",
    "                                                                                     'input_value': 'WP585'})\n",
    "# get JSON output\n",
    "\n",
    "data = doc.json()\n",
    "# uncomment the following line to show all the results \n",
    "#pp.pprint(data)\n",
    "# only showing the first result\n",
    "pp.pprint(data['data'][0])"
   ]
  },
  {
   "cell_type": "code",
   "execution_count": 20,
   "metadata": {
    "collapsed": true
   },
   "outputs": [],
   "source": [
    "# Get all the Gene IDs\n",
    "gene_list = [_doc['target'] for _doc in data['data']]"
   ]
  },
  {
   "cell_type": "code",
   "execution_count": 21,
   "metadata": {
    "collapsed": false
   },
   "outputs": [
    {
     "data": {
      "text/plain": [
       "['NCBIGENE:6775',\n",
       " 'NCBIGENE:3454',\n",
       " 'NCBIGENE:7297',\n",
       " 'NCBIGENE:79109',\n",
       " 'NCBIGENE:8554',\n",
       " 'NCBIGENE:3455',\n",
       " 'NCBIGENE:6773',\n",
       " 'NCBIGENE:3932',\n",
       " 'NCBIGENE:10401',\n",
       " 'NCBIGENE:57521']"
      ]
     },
     "execution_count": 21,
     "metadata": {},
     "output_type": "execute_result"
    }
   ],
   "source": [
    "# Show the first 10 hits\n",
    "gene_list[:10]"
   ]
  },
  {
   "cell_type": "markdown",
   "metadata": {},
   "source": [
    "## Step 3: Find APIs which can connect from Gene to Chemical/Drug"
   ]
  },
  {
   "cell_type": "code",
   "execution_count": 23,
   "metadata": {
    "collapsed": true
   },
   "outputs": [],
   "source": [
    "doc = requests.get('http://biothings.io/explorer/api/v2/apigraph', params={'subject.semantic_type': 'gene', \n",
    "                                                                               'object.semantic_type': 'chemical'})"
   ]
  },
  {
   "cell_type": "code",
   "execution_count": 24,
   "metadata": {
    "collapsed": false
   },
   "outputs": [
    {
     "name": "stdout",
     "output_type": "stream",
     "text": [
      "{   'associations': [   {   'endpoint': 'http://dgidb.genome.wustl.edu/api/v2/interactions.json?genes={genesymbol}',\n",
      "                            'object': {   'prefix': 'chembl.compound',\n",
      "                                          'semantic_type': 'chemical'},\n",
      "                            'predicate': 'GeneOrGeneProductToChemicalAssociation',\n",
      "                            'subject': {   'prefix': 'hgnc.symbol',\n",
      "                                           'semantic_type': 'gene'}},\n",
      "                        {   'endpoint': 'http://MyChem.info/v1/querybydrugtarget',\n",
      "                            'object': {   'prefix': 'inchikey',\n",
      "                                          'semantic_type': 'chemical'},\n",
      "                            'predicate': 'GeneOrGeneProductToChemicalAssociation',\n",
      "                            'subject': {   'prefix': 'uniprot',\n",
      "                                           'semantic_type': 'gene'}},\n",
      "                        {   'endpoint': 'https://pharos.nih.gov/idg/api/v1/targets({geneid})',\n",
      "                            'object': {   'prefix': 'pharos.ligand',\n",
      "                                          'semantic_type': 'chemical'},\n",
      "                            'predicate': 'GeneOrGeneProductToChemicalAssociation',\n",
      "                            'subject': {   'prefix': 'pharos.target',\n",
      "                                           'semantic_type': 'gene'}}]}\n"
     ]
    }
   ],
   "source": [
    "data = doc.json()\n",
    "pp.pprint(data)"
   ]
  },
  {
   "cell_type": "markdown",
   "metadata": {},
   "source": [
    "## Step 4: Retrieve all chemicals interacting with Genes found in Step 2"
   ]
  },
  {
   "cell_type": "code",
   "execution_count": 8,
   "metadata": {
    "collapsed": false
   },
   "outputs": [
    {
     "name": "stdout",
     "output_type": "stream",
     "text": [
      "[   {   'endpoint': 'biothings api',\n",
      "        'input': 'NCBIGENE:3932',\n",
      "        'output': {'object': {'id': 'UNIPROT:P06239'}},\n",
      "        'predicate': 'EquivalentAssociation'},\n",
      "    {   'context': {},\n",
      "        'endpoint': 'http://MyChem.info/v1/querybydrugtarget',\n",
      "        'input': 'UNIPROT:P06239',\n",
      "        'output': {'object': {'id': 'INCHIKEY:CHEMBL1201631'}},\n",
      "        'predicate': 'GeneOrGeneProductToChemicalAssociation',\n",
      "        'target': 'INCHIKEY:CHEMBL1201631'},\n",
      "    {   'endpoint': 'biothings api',\n",
      "        'input': 'INCHIKEY:CHEMBL1201631',\n",
      "        'output': {'object': {'id': 'CHEMBL.COMPOUND:CHEMBL1201631'}},\n",
      "        'predicate': 'EquivalentAssociation'}]\n"
     ]
    }
   ],
   "source": [
    "# make API call to BioThings Explorer\n",
    "\n",
    "doc = requests.get('http://biothings.io/explorer/api/v2/semanticquery', params={'input_prefix': \"ncbigene\", \n",
    "                                                                                     'output_prefix': 'chembl.compound', \n",
    "                                                                                     'input_value': '3932'})\n",
    "# get JSON output\n",
    "\n",
    "data = doc.json()\n",
    "# uncomment the following line to show all the results \n",
    "#pp.pprint(data)\n",
    "# only showing the first result\n",
    "pp.pprint(data['data'][1])"
   ]
  },
  {
   "cell_type": "code",
   "execution_count": 12,
   "metadata": {
    "collapsed": false
   },
   "outputs": [
    {
     "name": "stdout",
     "output_type": "stream",
     "text": [
      "[   {   'endpoint': 'biothings api',\n",
      "        'input': 'NCBIGENE:3932',\n",
      "        'output': {'object': {'id': 'HGNC.SYMBOL:LCK'}},\n",
      "        'predicate': 'EquivalentAssociation'},\n",
      "    {   'context': {   'edge:label': 'http://biothings.io/explorer/vocab/terms/gene-drug-relation/',\n",
      "                       'edge:provided_by': 'http://biothings.io/explorer/vocab/terms/database/',\n",
      "                       'edge:publication': 'http://identifiers.org/pubmed/',\n",
      "                       'object:id': 'http://identifiers.org/chembl.compound/',\n",
      "                       'object:secondary-id': 'http://biothings.io/explorer/vocab/terms/drug-name/'},\n",
      "        'endpoint': 'http://dgidb.genome.wustl.edu/api/v2/interactions.json?genes={genesymbol}',\n",
      "        'input': 'HGNC.SYMBOL:LCK',\n",
      "        'output': {   'edge': {   'label': ['inhibitor', 'multitarget'],\n",
      "                                  'provided_by': [   'ChemblInteractions',\n",
      "                                                     'DrugBank',\n",
      "                                                     'TEND',\n",
      "                                                     'TdgClinicalTrial'],\n",
      "                                  'publication': [   '11752352',\n",
      "                                                     '17154512',\n",
      "                                                     '20072833']},\n",
      "                      'object': {   'id': 'CHEMBL.COMPOUND:CHEMBL1421',\n",
      "                                    'secondary-id': 'DRUGNAME:DASATINIB'}},\n",
      "        'predicate': 'GeneOrGeneProductToChemicalAssociation',\n",
      "        'target': 'CHEMBL.COMPOUND:CHEMBL1421'}]\n"
     ]
    }
   ],
   "source": [
    "pp.pprint(data['data'][20])"
   ]
  },
  {
   "cell_type": "code",
   "execution_count": 13,
   "metadata": {
    "collapsed": false
   },
   "outputs": [],
   "source": [
    "chemical_list = [_doc[-1]['output']['object']['id'] for _doc in data['data'] if _doc[-1]['output']['object']['id'].split(':')[0] == 'CHEMBL.COMPOUND']"
   ]
  },
  {
   "cell_type": "code",
   "execution_count": 14,
   "metadata": {
    "collapsed": false
   },
   "outputs": [
    {
     "data": {
      "text/plain": [
       "['CHEMBL.COMPOUND:CHEMBL1201631',\n",
       " 'CHEMBL.COMPOUND:CHEMBL223873',\n",
       " 'CHEMBL.COMPOUND:CHEMBL392990',\n",
       " 'CHEMBL.COMPOUND:CHEMBL385937',\n",
       " 'CHEMBL.COMPOUND:CHEMBL462228',\n",
       " 'CHEMBL.COMPOUND:CHEMBL247272',\n",
       " 'CHEMBL.COMPOUND:CHEMBL502835',\n",
       " 'CHEMBL.COMPOUND:CHEMBL223873',\n",
       " 'CHEMBL.COMPOUND:CHEMBL1171837',\n",
       " 'CHEMBL.COMPOUND:CHEMBL502835']"
      ]
     },
     "execution_count": 14,
     "metadata": {},
     "output_type": "execute_result"
    }
   ],
   "source": [
    "chemical_list[:10]"
   ]
  },
  {
   "cell_type": "markdown",
   "metadata": {},
   "source": [
    "Note: here we only retrieve IDs for one of the genes. You could apply a for loop to retrieve all the genes"
   ]
  },
  {
   "cell_type": "code",
   "execution_count": null,
   "metadata": {
    "collapsed": true
   },
   "outputs": [],
   "source": [
    "# uncomment the following code to retrieve chemicals interacting with all genes.\n",
    "\"\"\"\n",
    "chemical_list = []\n",
    "for gene_id in gene_list:\n",
    "    doc = requests.get('http://biothings.io/explorer/api/v2/semanticquery', params={'input_prefix': \"ncbigene\", \n",
    "                                                                                     'output_prefix': 'chembl.compound', \n",
    "                                                                                     'input_value': gene_id.split(':')[-1]})\n",
    "    # get JSON output\n",
    "\n",
    "    data = doc.json()\n",
    "    temp_chemical_list =[_doc[-1]['output']['object']['id'] for _doc in data['data'] if _doc[-1]['output']['object']['id'].split(':')[0] == 'CHEMBL.COMPOUND']\n",
    "    chemical_list += temp_chemical_list\n",
    "\"\"\""
   ]
  }
 ],
 "metadata": {
  "kernelspec": {
   "display_name": "Python 3",
   "language": "python",
   "name": "python3"
  },
  "language_info": {
   "codemirror_mode": {
    "name": "ipython",
    "version": 3
   },
   "file_extension": ".py",
   "mimetype": "text/x-python",
   "name": "python",
   "nbconvert_exporter": "python",
   "pygments_lexer": "ipython3",
   "version": "3.5.0"
  }
 },
 "nbformat": 4,
 "nbformat_minor": 2
}
