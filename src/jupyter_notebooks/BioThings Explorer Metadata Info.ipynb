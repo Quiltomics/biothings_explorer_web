{
 "cells": [
  {
   "cell_type": "markdown",
   "metadata": {},
   "source": [
    "## Retrieve all Semantic Types Used in BioThings Explorer"
   ]
  },
  {
   "cell_type": "code",
   "execution_count": 2,
   "metadata": {
    "collapsed": true
   },
   "outputs": [],
   "source": [
    "import requests\n",
    "import pprint\n",
    "pp = pprint.PrettyPrinter(indent=4)"
   ]
  },
  {
   "cell_type": "code",
   "execution_count": 3,
   "metadata": {
    "collapsed": false
   },
   "outputs": [
    {
     "name": "stdout",
     "output_type": "stream",
     "text": [
      "{   'semantic_types': [   'pathway',\n",
      "                          'publication',\n",
      "                          'organism',\n",
      "                          'chemical',\n",
      "                          'taxonomy',\n",
      "                          'gene',\n",
      "                          'ontology',\n",
      "                          'disease',\n",
      "                          'transcript',\n",
      "                          'anatomy',\n",
      "                          'bioassay',\n",
      "                          'phenotype']}\n"
     ]
    }
   ],
   "source": [
    "doc = requests.get('http://biothings.io/explorer/api/v2/metadata/semantic_types')\n",
    "data = doc.json()\n",
    "pp.pprint(data)"
   ]
  },
  {
   "cell_type": "markdown",
   "metadata": {},
   "source": [
    "## Retrieve all Bio-entites Used in BioThings Explorer"
   ]
  },
  {
   "cell_type": "code",
   "execution_count": 5,
   "metadata": {
    "collapsed": false
   },
   "outputs": [
    {
     "name": "stdout",
     "output_type": "stream",
     "text": [
      "{   'bioentity': {   'anatomy': [   'anatomy',\n",
      "                                    'anatomyDescription',\n",
      "                                    'cl',\n",
      "                                    'mesh.anatomy',\n",
      "                                    'uberon'],\n",
      "                     'bioassay': ['pubchem.bioassay'],\n",
      "                     'chemical': [   'chebi',\n",
      "                                     'chembl.compound',\n",
      "                                     'chemicalDescription',\n",
      "                                     'drugbank',\n",
      "                                     'drugname',\n",
      "                                     'inchi',\n",
      "                                     'inchikey',\n",
      "                                     'iuphar.ligand',\n",
      "                                     'kegg.compound',\n",
      "                                     'kegg.drug',\n",
      "                                     'mesh.compound',\n",
      "                                     'pharmgkb.drug',\n",
      "                                     'pharos.ligand',\n",
      "                                     'pubchem.compound',\n",
      "                                     'pubchem.substance',\n",
      "                                     'rxcui',\n",
      "                                     'umls.compound',\n",
      "                                     'unii'],\n",
      "                     'disease': [   'diseaseDescription',\n",
      "                                    'diseasename',\n",
      "                                    'doid',\n",
      "                                    'mesh.disease',\n",
      "                                    'mondo',\n",
      "                                    'nci',\n",
      "                                    'omim.disease',\n",
      "                                    'pharos.disease',\n",
      "                                    'snomed',\n",
      "                                    'umls'],\n",
      "                     'gene': [   'ccds',\n",
      "                                 'ena',\n",
      "                                 'ensembl.gene',\n",
      "                                 'ensembl.protein',\n",
      "                                 'flybase',\n",
      "                                 'gene-approved-name',\n",
      "                                 'gene-description',\n",
      "                                 'hgnc',\n",
      "                                 'hgnc.symbol',\n",
      "                                 'mgi',\n",
      "                                 'mirbase',\n",
      "                                 'ncbigene',\n",
      "                                 'omim.gene',\n",
      "                                 'pdb',\n",
      "                                 'pharos.target',\n",
      "                                 'reactome.complex',\n",
      "                                 'refseq',\n",
      "                                 'rgd',\n",
      "                                 'sgd',\n",
      "                                 'umls.gene',\n",
      "                                 'uniprot',\n",
      "                                 'xenbase',\n",
      "                                 'zfin'],\n",
      "                     'ontology': [   'go',\n",
      "                                     'go-evidence',\n",
      "                                     'go-term',\n",
      "                                     'goDescription',\n",
      "                                     'ro'],\n",
      "                     'organism': ['taxonomy'],\n",
      "                     'pathway': [   'biocarta.pathway',\n",
      "                                    'kegg.pathway',\n",
      "                                    'pathwaysName',\n",
      "                                    'pharmgkb.pathway',\n",
      "                                    'reactome.displayname',\n",
      "                                    'reactome.pathway',\n",
      "                                    'wikipathways'],\n",
      "                     'phenotype': [   'hp',\n",
      "                                      'phenotypeDescription',\n",
      "                                      'phenotypeName'],\n",
      "                     'publication': ['pubmed'],\n",
      "                     'taxonomy': ['genebank-common-name', 'taxonomyname'],\n",
      "                     'transcript': [   'ensembl.transcript',\n",
      "                                       'ensembl.translation',\n",
      "                                       'unigene']}}\n"
     ]
    }
   ],
   "source": [
    "doc = requests.get('http://biothings.io/explorer/api/v2/metadata/bioentities')\n",
    "data = doc.json()\n",
    "pp.pprint(data)"
   ]
  },
  {
   "cell_type": "markdown",
   "metadata": {},
   "source": [
    "## Retrieve all Current APIs Integrated in BioThings Explorer"
   ]
  },
  {
   "cell_type": "code",
   "execution_count": 6,
   "metadata": {
    "collapsed": false
   },
   "outputs": [
    {
     "name": "stdout",
     "output_type": "stream",
     "text": [
      "{   'api': [   'BioLink API',\n",
      "               'ChEMBL API',\n",
      "               'DGIdb API',\n",
      "               'Disease Ontology API',\n",
      "               'EBI Ontology Service API',\n",
      "               'HGNC API',\n",
      "               'MyChem.info API',\n",
      "               'MyDisease.info API',\n",
      "               'MyGene.info API',\n",
      "               'Pharos API',\n",
      "               'PubChem API',\n",
      "               'Reactome API',\n",
      "               'Taxonomy API']}\n"
     ]
    }
   ],
   "source": [
    "doc = requests.get('http://biothings.io/explorer/api/v2/metadata/apis')\n",
    "data = doc.json()\n",
    "pp.pprint(data)"
   ]
  },
  {
   "cell_type": "markdown",
   "metadata": {},
   "source": [
    "## Retrieve all Current  API Endpoints Integrated in BioThings Explorer"
   ]
  },
  {
   "cell_type": "code",
   "execution_count": 7,
   "metadata": {
    "collapsed": false
   },
   "outputs": [
    {
     "name": "stdout",
     "output_type": "stream",
     "text": [
      "{   'endpoint': [   'http://MyChem.info/v1/drug/{drugid}',\n",
      "                    'http://MyChem.info/v1/querybydrugid',\n",
      "                    'http://MyChem.info/v1/querybydrugtarget',\n",
      "                    'http://dgidb.genome.wustl.edu/api/v2/interactions.json?drugs={drugname}',\n",
      "                    'http://dgidb.genome.wustl.edu/api/v2/interactions.json?genes={genesymbol}',\n",
      "                    'http://mydisease.info/v1/disease/{mondoid}',\n",
      "                    'http://mygene.info/v3/gene/{geneid}',\n",
      "                    'http://mygene.info/v3/querygene',\n",
      "                    'http://mygene.info/v3/querygeneproduct',\n",
      "                    'http://mygene.info/v3/querypathway',\n",
      "                    'http://t.biothings.io/v1/taxonomy/{taxonomyid}',\n",
      "                    'http://www.disease-ontology.org/api/metadata/{doid}',\n",
      "                    'https://api.monarchinitiative.org/api/bioentity/anatomy/{anatomyid}/genes',\n",
      "                    'https://api.monarchinitiative.org/api/bioentity/disease/{diseaseid}',\n",
      "                    'https://api.monarchinitiative.org/api/bioentity/disease/{diseaseid}/genes',\n",
      "                    'https://api.monarchinitiative.org/api/bioentity/disease/{diseaseid}/phenotypes',\n",
      "                    'https://api.monarchinitiative.org/api/bioentity/gene/{geneid}/diseases',\n",
      "                    'https://api.monarchinitiative.org/api/bioentity/gene/{geneid}/expression/anatomy',\n",
      "                    'https://api.monarchinitiative.org/api/bioentity/gene/{geneid}/homologs',\n",
      "                    'https://api.monarchinitiative.org/api/bioentity/gene/{geneid}/interactions',\n",
      "                    'https://api.monarchinitiative.org/api/bioentity/gene/{geneid}/pathways',\n",
      "                    'https://api.monarchinitiative.org/api/bioentity/gene/{geneid}/phenotypes',\n",
      "                    'https://api.monarchinitiative.org/api/bioentity/pathway/{pathwayid}/genes',\n",
      "                    'https://api.monarchinitiative.org/api/bioentity/phenotype/{phenotypeid}',\n",
      "                    'https://api.monarchinitiative.org/api/bioentity/phenotype/{phenotypeid}/anatomy',\n",
      "                    'https://api.monarchinitiative.org/api/bioentity/variant/{variantid}/genes',\n",
      "                    'https://pharos.nih.gov/idg/api/v1/diseases({diseaseid})',\n",
      "                    'https://pharos.nih.gov/idg/api/v1/diseases/search',\n",
      "                    'https://pharos.nih.gov/idg/api/v1/ligands({drugid})',\n",
      "                    'https://pharos.nih.gov/idg/api/v1/ligands/search',\n",
      "                    'https://pharos.nih.gov/idg/api/v1/targets({geneid})',\n",
      "                    'https://pharos.nih.gov/idg/api/v1/targets/search',\n",
      "                    'https://pubchem.ncbi.nlm.nih.gov/rest/pug/assay/aid/{bioassayid}/cids/JSON',\n",
      "                    'https://pubchem.ncbi.nlm.nih.gov/rest/pug/assay/aid/{bioassayid}/sids/JSON',\n",
      "                    'https://pubchem.ncbi.nlm.nih.gov/rest/pug/assay/target/geneid/{geneid}/aids/JSON',\n",
      "                    'https://pubchem.ncbi.nlm.nih.gov/rest/pug/assay/target/genesymbol/{genesymbol}/aids/JSON',\n",
      "                    'https://pubchem.ncbi.nlm.nih.gov/rest/pug/compound/cid/{compoundid}/sids/JSON',\n",
      "                    'https://pubchem.ncbi.nlm.nih.gov/rest/pug/compound/cid/{compoundid}/xrefs/PubMedID/JSON',\n",
      "                    'https://pubchem.ncbi.nlm.nih.gov/rest/pug/compound/name/{drugname}/synonyms/JSON',\n",
      "                    'https://pubchem.ncbi.nlm.nih.gov/rest/pug/substance/sid/{substanceid}/cids/JSON',\n",
      "                    'https://reactome.org/ContentService/data/complexes/Uniprot/{uniprotId}',\n",
      "                    'https://reactome.org/ContentService/data/participants/{ReactomePathwaysId}',\n",
      "                    'https://reactome.org/ContentService/data/pathways/low/diagram/entity/{ReactomeComplexId}/allForms',\n",
      "                    'https://reactome.org/ContentService/interactors/static/molecule/{uniprot}/details',\n",
      "                    'https://rest.genenames.org/fetch/{gene}',\n",
      "                    'https://www.ebi.ac.uk/chembl/api/data/compound_record',\n",
      "                    'https://www.ebi.ac.uk/chembl/api/data/drug_indication',\n",
      "                    'https://www.ebi.ac.uk/chembl/api/data/mechanism',\n",
      "                    'https://www.ebi.ac.uk/chembl/api/data/target_prediction/{chemblid}',\n",
      "                    'https://www.ebi.ac.uk/ols/api/ontologies/cl/terms/{clid}',\n",
      "                    'https://www.ebi.ac.uk/ols/api/ontologies/do/parents/{doid}',\n",
      "                    'https://www.ebi.ac.uk/ols/api/ontologies/doid/children/{doid}',\n",
      "                    'https://www.ebi.ac.uk/ols/api/ontologies/doid/terms/{doid}',\n",
      "                    'https://www.ebi.ac.uk/ols/api/ontologies/go/children/{goid}',\n",
      "                    'https://www.ebi.ac.uk/ols/api/ontologies/go/parents/{goid}',\n",
      "                    'https://www.ebi.ac.uk/ols/api/ontologies/go/terms/{goid}',\n",
      "                    'https://www.ebi.ac.uk/ols/api/ontologies/hp/terms/{hpid}',\n",
      "                    'https://www.ebi.ac.uk/ols/api/ontologies/uberon/terms/{uberonid}']}\n"
     ]
    }
   ],
   "source": [
    "doc = requests.get('http://biothings.io/explorer/api/v2/metadata/endpoints')\n",
    "data = doc.json()\n",
    "pp.pprint(data)"
   ]
  },
  {
   "cell_type": "markdown",
   "metadata": {},
   "source": [
    "## Query the Knowledge Map for Biothings Explorer"
   ]
  },
  {
   "cell_type": "code",
   "execution_count": 8,
   "metadata": {
    "collapsed": true
   },
   "outputs": [],
   "source": [
    "# get the whole knowledge map\n",
    "# doc = requests.get('http://biothings.io/explorer/api/v2/knowledgemap')\n",
    "# data = doc.json()"
   ]
  },
  {
   "cell_type": "markdown",
   "metadata": {},
   "source": [
    "### Find all connections between two semantic types"
   ]
  },
  {
   "cell_type": "code",
   "execution_count": 10,
   "metadata": {
    "collapsed": false
   },
   "outputs": [
    {
     "name": "stdout",
     "output_type": "stream",
     "text": [
      "{   'associations': [   {   'endpoint': 'http://MyChem.info/v1/querybydrugtarget',\n",
      "                            'object': {   'prefix': 'inchikey',\n",
      "                                          'semantic_type': 'chemical'},\n",
      "                            'predicate': 'GeneOrGeneProductToChemicalAssociation',\n",
      "                            'subject': {   'prefix': 'uniprot',\n",
      "                                           'semantic_type': 'gene'}},\n",
      "                        {   'endpoint': 'http://dgidb.genome.wustl.edu/api/v2/interactions.json?genes={genesymbol}',\n",
      "                            'object': {   'prefix': 'chembl.compound',\n",
      "                                          'semantic_type': 'chemical'},\n",
      "                            'predicate': 'GeneOrGeneProductToChemicalAssociation',\n",
      "                            'subject': {   'prefix': 'hgnc.symbol',\n",
      "                                           'semantic_type': 'gene'}},\n",
      "                        {   'endpoint': 'https://pharos.nih.gov/idg/api/v1/targets({geneid})',\n",
      "                            'object': {   'prefix': 'pharos.ligand',\n",
      "                                          'semantic_type': 'chemical'},\n",
      "                            'predicate': 'GeneOrGeneProductToChemicalAssociation',\n",
      "                            'subject': {   'prefix': 'pharos.target',\n",
      "                                           'semantic_type': 'gene'}}]}\n"
     ]
    }
   ],
   "source": [
    "doc = requests.get('http://biothings.io/explorer/api/v2/knowledgemap?object.semantic_type=chemical&subject.semantic_type=gene')\n",
    "data = doc.json()\n",
    "pp.pprint(data)"
   ]
  },
  {
   "cell_type": "markdown",
   "metadata": {},
   "source": [
    "### Find all endpoints which can connect from chemicals to Uniprot IDs"
   ]
  },
  {
   "cell_type": "code",
   "execution_count": 11,
   "metadata": {
    "collapsed": false
   },
   "outputs": [
    {
     "name": "stdout",
     "output_type": "stream",
     "text": [
      "{   'associations': [   {   'endpoint': 'http://MyChem.info/v1/drug/{drugid}',\n",
      "                            'object': {   'prefix': 'uniprot',\n",
      "                                          'semantic_type': 'gene'},\n",
      "                            'predicate': 'ChemicalToGeneOrGeneProductAssociation',\n",
      "                            'subject': {   'prefix': 'inchikey',\n",
      "                                           'semantic_type': 'chemical'}},\n",
      "                        {   'endpoint': 'http://MyChem.info/v1/drug/{drugid}',\n",
      "                            'object': {   'prefix': 'uniprot',\n",
      "                                          'semantic_type': 'gene'},\n",
      "                            'predicate': 'ChemicalToGeneOrGeneProductAssociation',\n",
      "                            'subject': {   'prefix': 'drugbank',\n",
      "                                           'semantic_type': 'chemical'}},\n",
      "                        {   'endpoint': 'https://www.ebi.ac.uk/chembl/api/data/target_prediction/{chemblid}',\n",
      "                            'object': {   'prefix': 'uniprot',\n",
      "                                          'semantic_type': 'gene'},\n",
      "                            'predicate': 'ChemicalToGeneOrGeneProductAssociation',\n",
      "                            'subject': {   'prefix': 'chembl.compound',\n",
      "                                           'semantic_type': 'chemical'}},\n",
      "                        {   'endpoint': 'http://MyChem.info/v1/querybydrugid',\n",
      "                            'object': {   'prefix': 'uniprot',\n",
      "                                          'semantic_type': 'gene'},\n",
      "                            'predicate': 'ChemicalToGeneOrGeneProductObject',\n",
      "                            'subject': {   'prefix': 'rxcui',\n",
      "                                           'semantic_type': 'chemical'}},\n",
      "                        {   'endpoint': 'http://MyChem.info/v1/querybydrugid',\n",
      "                            'object': {   'prefix': 'uniprot',\n",
      "                                          'semantic_type': 'gene'},\n",
      "                            'predicate': 'ChemicalToGeneOrGeneProductObject',\n",
      "                            'subject': {   'prefix': 'chebi',\n",
      "                                           'semantic_type': 'chemical'}},\n",
      "                        {   'endpoint': 'http://MyChem.info/v1/querybydrugid',\n",
      "                            'object': {   'prefix': 'uniprot',\n",
      "                                          'semantic_type': 'gene'},\n",
      "                            'predicate': 'ChemicalToGeneOrGeneProductObject',\n",
      "                            'subject': {   'prefix': 'chembl.compound',\n",
      "                                           'semantic_type': 'chemical'}},\n",
      "                        {   'endpoint': 'http://MyChem.info/v1/querybydrugid',\n",
      "                            'object': {   'prefix': 'uniprot',\n",
      "                                          'semantic_type': 'gene'},\n",
      "                            'predicate': 'ChemicalToGeneOrGeneProductObject',\n",
      "                            'subject': {   'prefix': 'drugbank',\n",
      "                                           'semantic_type': 'chemical'}},\n",
      "                        {   'endpoint': 'http://MyChem.info/v1/querybydrugid',\n",
      "                            'object': {   'prefix': 'uniprot',\n",
      "                                          'semantic_type': 'gene'},\n",
      "                            'predicate': 'ChemicalToGeneOrGeneProductObject',\n",
      "                            'subject': {   'prefix': 'iuphar.ligand',\n",
      "                                           'semantic_type': 'chemical'}},\n",
      "                        {   'endpoint': 'http://MyChem.info/v1/querybydrugid',\n",
      "                            'object': {   'prefix': 'uniprot',\n",
      "                                          'semantic_type': 'gene'},\n",
      "                            'predicate': 'ChemicalToGeneOrGeneProductObject',\n",
      "                            'subject': {   'prefix': 'kegg.drug',\n",
      "                                           'semantic_type': 'chemical'}},\n",
      "                        {   'endpoint': 'http://MyChem.info/v1/querybydrugid',\n",
      "                            'object': {   'prefix': 'uniprot',\n",
      "                                          'semantic_type': 'gene'},\n",
      "                            'predicate': 'ChemicalToGeneOrGeneProductObject',\n",
      "                            'subject': {   'prefix': 'kegg.compound',\n",
      "                                           'semantic_type': 'chemical'}},\n",
      "                        {   'endpoint': 'http://MyChem.info/v1/querybydrugid',\n",
      "                            'object': {   'prefix': 'uniprot',\n",
      "                                          'semantic_type': 'gene'},\n",
      "                            'predicate': 'ChemicalToGeneOrGeneProductObject',\n",
      "                            'subject': {   'prefix': 'pubchem.compound',\n",
      "                                           'semantic_type': 'chemical'}},\n",
      "                        {   'endpoint': 'http://MyChem.info/v1/querybydrugid',\n",
      "                            'object': {   'prefix': 'uniprot',\n",
      "                                          'semantic_type': 'gene'},\n",
      "                            'predicate': 'ChemicalToGeneOrGeneProductObject',\n",
      "                            'subject': {   'prefix': 'unii',\n",
      "                                           'semantic_type': 'chemical'}},\n",
      "                        {   'endpoint': 'http://MyChem.info/v1/querybydrugid',\n",
      "                            'object': {   'prefix': 'uniprot',\n",
      "                                          'semantic_type': 'gene'},\n",
      "                            'predicate': 'ChemicalToGeneOrGeneProductObject',\n",
      "                            'subject': {   'prefix': 'inchi',\n",
      "                                           'semantic_type': 'chemical'}},\n",
      "                        {   'endpoint': 'http://MyChem.info/v1/querybydrugid',\n",
      "                            'object': {   'prefix': 'uniprot',\n",
      "                                          'semantic_type': 'gene'},\n",
      "                            'predicate': 'ChemicalToGeneOrGeneProductObject',\n",
      "                            'subject': {   'prefix': 'drugname',\n",
      "                                           'semantic_type': 'chemical'}},\n",
      "                        {   'endpoint': 'http://MyChem.info/v1/querybydrugid',\n",
      "                            'object': {   'prefix': 'uniprot',\n",
      "                                          'semantic_type': 'gene'},\n",
      "                            'predicate': 'ChemicalToGeneOrGeneProductObject',\n",
      "                            'subject': {   'prefix': 'pharmgkb.drug',\n",
      "                                           'semantic_type': 'chemical'}}]}\n"
     ]
    }
   ],
   "source": [
    "doc = requests.get('http://biothings.io/explorer/api/v2/knowledgemap?object.prefix=uniprot&subject.semantic_type=chemical')\n",
    "data = doc.json()\n",
    "pp.pprint(data)"
   ]
  },
  {
   "cell_type": "markdown",
   "metadata": {},
   "source": [
    "### Find all endpoints which can connect from ncbigene ID to MONDO ID"
   ]
  },
  {
   "cell_type": "code",
   "execution_count": 12,
   "metadata": {
    "collapsed": false
   },
   "outputs": [
    {
     "name": "stdout",
     "output_type": "stream",
     "text": [
      "{   'associations': [   {   'endpoint': 'https://api.monarchinitiative.org/api/bioentity/gene/{geneid}/diseases',\n",
      "                            'object': {   'prefix': 'mondo',\n",
      "                                          'semantic_type': 'disease'},\n",
      "                            'predicate': 'GeneOrGeneProductToDiseaseAssociation',\n",
      "                            'subject': {   'prefix': 'ncbigene',\n",
      "                                           'semantic_type': 'gene'}}]}\n"
     ]
    }
   ],
   "source": [
    "doc = requests.get('http://biothings.io/explorer/api/v2/knowledgemap?object.prefix=mondo&subject.prefix=ncbigene')\n",
    "data = doc.json()\n",
    "pp.pprint(data)"
   ]
  }
 ],
 "metadata": {
  "kernelspec": {
   "display_name": "Python 3",
   "language": "python",
   "name": "python3"
  },
  "language_info": {
   "codemirror_mode": {
    "name": "ipython",
    "version": 3
   },
   "file_extension": ".py",
   "mimetype": "text/x-python",
   "name": "python",
   "nbconvert_exporter": "python",
   "pygments_lexer": "ipython3",
   "version": "3.5.0"
  }
 },
 "nbformat": 4,
 "nbformat_minor": 2
}
