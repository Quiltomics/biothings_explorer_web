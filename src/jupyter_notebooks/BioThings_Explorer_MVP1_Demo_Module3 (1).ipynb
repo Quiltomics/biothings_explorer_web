{
 "cells": [
  {
   "cell_type": "code",
   "execution_count": 1,
   "metadata": {
    "collapsed": true
   },
   "outputs": [],
   "source": [
    "import requests\n",
    "def query_single_edge(_input, _output, _value):\n",
    "    \"\"\"\n",
    "        Retrieve results using one API call from input to output.\n",
    "        :param _input: the input prefix, for a list of input prefix in BioThings Explorer, visit: http://biothings.io/explorer/api/v2/metadata/bioentities\n",
    "        :param _output: the output prefix, for a list of output prefix in BioThings Explorer, visit: http://biothings.io/explorer/api/v2/metadata/bioentities\n",
    "        :_value: The value of the input\n",
    "        :return:\n",
    "    \"\"\"\n",
    "    doc = requests.get('http://biothings.io/explorer/api/v2/directinput2output?input_prefix={{input}}&output_prefix={{output}}&input_value={{value}}&format=translator'.\n",
    "                      replace(\"{{input}}\", _input).replace(\"{{output}}\", _output).replace(\"{{value}}\", _value)).json()\n",
    "    return doc"
   ]
  },
  {
   "cell_type": "markdown",
   "metadata": {},
   "source": [
    "## MOD3.3. What drugs/compounds decrease (inhibit / down-regulate) these?"
   ]
  },
  {
   "cell_type": "markdown",
   "metadata": {},
   "source": [
    "Example Input: Gene **CXCR4**"
   ]
  },
  {
   "cell_type": "code",
   "execution_count": 4,
   "metadata": {
    "collapsed": true
   },
   "outputs": [],
   "source": [
    "# Step 1: Get All Drugs/Compounds targeting the Gene/Protein\n",
    "chemical_info = query_single_edge(_input='hgnc.symbol',\n",
    "                                  _output='chembl.compound',\n",
    "                                  _value='CXCR4')"
   ]
  },
  {
   "cell_type": "code",
   "execution_count": 8,
   "metadata": {
    "collapsed": false
   },
   "outputs": [
    {
     "name": "stdout",
     "output_type": "stream",
     "text": [
      "Automatic pdb calling has been turned OFF\n"
     ]
    }
   ],
   "source": [
    "#Step 2: Filter for chemicals which inhibit the gene/protein\n",
    "cxcr4_antagonists = [_chemical for _chemical in chemical_info['result_list']['edge_list'] if _chemical['relation'] and (_chemical['relation'] == 'antagonist' or 'antagonist' in _chemical['relation'])]"
   ]
  },
  {
   "cell_type": "code",
   "execution_count": 10,
   "metadata": {
    "collapsed": false
   },
   "outputs": [
    {
     "data": {
      "text/plain": [
       "[{'evidence_type': None,\n",
       "  'provided_by': 'GuideToPharmacologyInteractions',\n",
       "  'publications': None,\n",
       "  'qualifier': {'category': None, 'probability': None, 'pvalue': None},\n",
       "  'relation': 'antagonist',\n",
       "  'source_id': 'HGNC.SYMBOL:CXCR4',\n",
       "  'target_id': 'CHEMBL.COMPOUND:CHEMBL16694'},\n",
       " {'evidence_type': None,\n",
       "  'provided_by': ['ChemblInteractions', 'TTD', 'TdgClinicalTrial'],\n",
       "  'publications': None,\n",
       "  'qualifier': {'category': None, 'probability': None, 'pvalue': None},\n",
       "  'relation': 'antagonist',\n",
       "  'source_id': 'HGNC.SYMBOL:CXCR4',\n",
       "  'target_id': 'CHEMBL.COMPOUND:CHEMBL3545330'},\n",
       " {'evidence_type': None,\n",
       "  'provided_by': ['ChemblInteractions', 'TdgClinicalTrial'],\n",
       "  'publications': None,\n",
       "  'qualifier': {'category': None, 'probability': None, 'pvalue': None},\n",
       "  'relation': 'antagonist',\n",
       "  'source_id': 'HGNC.SYMBOL:CXCR4',\n",
       "  'target_id': 'CHEMBL.COMPOUND:CHEMBL3545224'},\n",
       " {'evidence_type': None,\n",
       "  'provided_by': 'ChemblInteractions',\n",
       "  'publications': None,\n",
       "  'qualifier': {'category': None, 'probability': None, 'pvalue': None},\n",
       "  'relation': 'antagonist',\n",
       "  'source_id': 'HGNC.SYMBOL:CXCR4',\n",
       "  'target_id': 'CHEMBL.COMPOUND:CHEMBL3544949'},\n",
       " {'evidence_type': None,\n",
       "  'provided_by': 'TTD',\n",
       "  'publications': None,\n",
       "  'qualifier': {'category': None, 'probability': None, 'pvalue': None},\n",
       "  'relation': 'antagonist',\n",
       "  'source_id': 'HGNC.SYMBOL:CXCR4',\n",
       "  'target_id': 'CHEMBL.COMPOUND:CHEMBL1088913'},\n",
       " {'evidence_type': None,\n",
       "  'provided_by': 'ChemblInteractions',\n",
       "  'publications': None,\n",
       "  'qualifier': {'category': None, 'probability': None, 'pvalue': None},\n",
       "  'relation': 'antagonist',\n",
       "  'source_id': 'HGNC.SYMBOL:CXCR4',\n",
       "  'target_id': 'CHEMBL.COMPOUND:CHEMBL3545105'},\n",
       " {'evidence_type': None,\n",
       "  'provided_by': 'DrugBank',\n",
       "  'publications': ['11747436', '14638394'],\n",
       "  'qualifier': {'category': None, 'probability': None, 'pvalue': None},\n",
       "  'relation': 'antagonist',\n",
       "  'source_id': 'HGNC.SYMBOL:CXCR4',\n",
       "  'target_id': 'CHEMBL.COMPOUND:CHEMBL2104426'},\n",
       " {'evidence_type': None,\n",
       "  'provided_by': ['ChemblInteractions',\n",
       "   'GuideToPharmacologyInteractions',\n",
       "   'TdgClinicalTrial'],\n",
       "  'publications': None,\n",
       "  'qualifier': {'category': None, 'probability': None, 'pvalue': None},\n",
       "  'relation': 'antagonist',\n",
       "  'source_id': 'HGNC.SYMBOL:CXCR4',\n",
       "  'target_id': 'CHEMBL.COMPOUND:CHEMBL3545348'},\n",
       " {'evidence_type': None,\n",
       "  'provided_by': 'GuideToPharmacologyInteractions',\n",
       "  'publications': None,\n",
       "  'qualifier': {'category': None, 'probability': None, 'pvalue': None},\n",
       "  'relation': 'antagonist',\n",
       "  'source_id': 'HGNC.SYMBOL:CXCR4',\n",
       "  'target_id': 'CHEMBL.COMPOUND:CHEMBL452864'},\n",
       " {'evidence_type': None,\n",
       "  'provided_by': 'GuideToPharmacologyInteractions',\n",
       "  'publications': None,\n",
       "  'qualifier': {'category': None, 'probability': None, 'pvalue': None},\n",
       "  'relation': 'antagonist',\n",
       "  'source_id': 'HGNC.SYMBOL:CXCR4',\n",
       "  'target_id': 'CHEMBL.COMPOUND:CHEMBL460491'},\n",
       " {'evidence_type': None,\n",
       "  'provided_by': ['ChemblInteractions',\n",
       "   'DrugBank',\n",
       "   'GuideToPharmacologyInteractions',\n",
       "   'TEND',\n",
       "   'TTD',\n",
       "   'TdgClinicalTrial'],\n",
       "  'publications': ['18847313', '23204107'],\n",
       "  'qualifier': {'category': None, 'probability': None, 'pvalue': None},\n",
       "  'relation': ['antagonist', 'partial agonist'],\n",
       "  'source_id': 'HGNC.SYMBOL:CXCR4',\n",
       "  'target_id': 'CHEMBL.COMPOUND:CHEMBL18442'}]"
      ]
     },
     "execution_count": 10,
     "metadata": {},
     "output_type": "execute_result"
    }
   ],
   "source": [
    "cxcr4_antagonists"
   ]
  },
  {
   "cell_type": "markdown",
   "metadata": {},
   "source": [
    "## MOD3.3a What drugs increase (activate / promote ) these?"
   ]
  },
  {
   "cell_type": "code",
   "execution_count": 15,
   "metadata": {
    "collapsed": true
   },
   "outputs": [],
   "source": [
    "cxcr4_agonists = [_chemical for _chemical in chemical_info['result_list']['edge_list'] if _chemical['relation'] and _chemical['relation'] == 'agonist']"
   ]
  },
  {
   "cell_type": "code",
   "execution_count": 16,
   "metadata": {
    "collapsed": false
   },
   "outputs": [
    {
     "data": {
      "text/plain": [
       "[{'evidence_type': None,\n",
       "  'provided_by': 'GuideToPharmacologyInteractions',\n",
       "  'publications': None,\n",
       "  'qualifier': {'category': None, 'probability': None, 'pvalue': None},\n",
       "  'relation': 'agonist',\n",
       "  'source_id': 'HGNC.SYMBOL:CXCR4',\n",
       "  'target_id': 'CHEMBL.COMPOUND:CHEMBL52333'},\n",
       " {'evidence_type': None,\n",
       "  'provided_by': 'GuideToPharmacologyInteractions',\n",
       "  'publications': None,\n",
       "  'qualifier': {'category': None, 'probability': None, 'pvalue': None},\n",
       "  'relation': 'agonist',\n",
       "  'source_id': 'HGNC.SYMBOL:CXCR4',\n",
       "  'target_id': 'CHEMBL.COMPOUND:CHEMBL445753'}]"
      ]
     },
     "execution_count": 16,
     "metadata": {},
     "output_type": "execute_result"
    }
   ],
   "source": [
    "cxcr4_agonists"
   ]
  },
  {
   "cell_type": "markdown",
   "metadata": {},
   "source": [
    "## MOD 3.3b What drugs rarely produce these adverse events? (possibly protective effect)"
   ]
  },
  {
   "cell_type": "code",
   "execution_count": 21,
   "metadata": {
    "collapsed": true
   },
   "outputs": [],
   "source": [
    "def fetch_drug_common_side_effects(chembl_id, threshold=20):\n",
    "    side_effects = query_single_edge(_input='chembl.compound', \n",
    "                                     _output='meddra',\n",
    "                                     _value=chembl_id.split(':')[-1])\n",
    "    return side_effects['result_list']['node_list']"
   ]
  },
  {
   "cell_type": "code",
   "execution_count": 24,
   "metadata": {
    "collapsed": false
   },
   "outputs": [
    {
     "data": {
      "text/plain": [
       "[{'description': None,\n",
       "  'id': 'MEDDRA:10008111',\n",
       "  'name': 'Cerebral haemorrhage',\n",
       "  'type': 'disease'},\n",
       " {'description': None,\n",
       "  'id': 'MEDDRA:10008190',\n",
       "  'name': 'Cerebrovascular accident',\n",
       "  'type': 'disease'},\n",
       " {'description': None,\n",
       "  'id': 'MEDDRA:10008263',\n",
       "  'name': 'Cervical dysplasia',\n",
       "  'type': 'disease'},\n",
       " {'description': None,\n",
       "  'id': 'MEDDRA:10008469',\n",
       "  'name': 'Chest discomfort',\n",
       "  'type': 'disease'},\n",
       " {'description': None,\n",
       "  'id': 'MEDDRA:10008479',\n",
       "  'name': 'Chest pain',\n",
       "  'type': 'disease'},\n",
       " {'description': None,\n",
       "  'id': 'MEDDRA:10008635',\n",
       "  'name': 'Cholestasis',\n",
       "  'type': 'disease'},\n",
       " {'description': None,\n",
       "  'id': 'MEDDRA:10008757',\n",
       "  'name': 'Choriocarcinoma',\n",
       "  'type': 'disease'},\n",
       " {'description': None,\n",
       "  'id': 'MEDDRA:10009657',\n",
       "  'name': 'Clostridium difficile colitis',\n",
       "  'type': 'disease'},\n",
       " {'description': None,\n",
       "  'id': 'MEDDRA:10009802',\n",
       "  'name': 'Coagulopathy',\n",
       "  'type': 'disease'},\n",
       " {'description': None,\n",
       "  'id': 'MEDDRA:10009887',\n",
       "  'name': 'Colitis',\n",
       "  'type': 'disease'}]"
      ]
     },
     "execution_count": 24,
     "metadata": {},
     "output_type": "execute_result"
    }
   ],
   "source": [
    "fetch_drug_common_side_effects('CHEMBL.COMPOUND:CHEMBL159')[:10]"
   ]
  }
 ],
 "metadata": {
  "kernelspec": {
   "display_name": "Python 3",
   "language": "python",
   "name": "python3"
  },
  "language_info": {
   "codemirror_mode": {
    "name": "ipython",
    "version": 3
   },
   "file_extension": ".py",
   "mimetype": "text/x-python",
   "name": "python",
   "nbconvert_exporter": "python",
   "pygments_lexer": "ipython3",
   "version": "3.5.0"
  }
 },
 "nbformat": 4,
 "nbformat_minor": 2
}
